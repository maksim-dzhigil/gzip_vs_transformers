{
 "cells": [
  {
   "cell_type": "code",
   "execution_count": 1,
   "metadata": {},
   "outputs": [],
   "source": [
    "import pandas as pd\n",
    "import os"
   ]
  },
  {
   "cell_type": "code",
   "execution_count": 2,
   "metadata": {},
   "outputs": [],
   "source": [
    "df = pd.read_csv(\"../data/IMDB.csv\").iloc[:100]"
   ]
  },
  {
   "cell_type": "code",
   "execution_count": 44,
   "metadata": {},
   "outputs": [],
   "source": [
    "texts_pos = df[df[\"sentiment\"] == \"positive\"]['review'].tolist()\n",
    "texts_neg = df[df[\"sentiment\"] == \"negative\"]['review'].tolist()"
   ]
  },
  {
   "cell_type": "code",
   "execution_count": 45,
   "metadata": {},
   "outputs": [],
   "source": [
    "pos_dir = \"request_data/pos_reviews\"\n",
    "neg_dir = \"request_data/neg_reviews\"\n"
   ]
  },
  {
   "cell_type": "code",
   "execution_count": 47,
   "metadata": {},
   "outputs": [],
   "source": [
    "os.makedirs(pos_dir, exist_ok=True)\n",
    "os.makedirs(neg_dir, exist_ok=True)\n"
   ]
  },
  {
   "cell_type": "code",
   "execution_count": 48,
   "metadata": {},
   "outputs": [],
   "source": [
    "for i, review in enumerate(texts_pos):\n",
    "    filename = os.path.join(pos_dir, f\"pos_{i+1}.txt\")\n",
    "    with open(filename, \"w\") as file:\n",
    "        file.writelines(review)\n",
    "\n",
    "for i, review in enumerate(texts_neg):\n",
    "    filename = os.path.join(neg_dir, f\"neg_{i+1}.txt\")\n",
    "    with open(filename, \"w\") as file:\n",
    "        file.writelines(review)"
   ]
  },
  {
   "cell_type": "code",
   "execution_count": null,
   "metadata": {},
   "outputs": [],
   "source": []
  }
 ],
 "metadata": {
  "kernelspec": {
   "display_name": "urfu",
   "language": "python",
   "name": "python3"
  },
  "language_info": {
   "codemirror_mode": {
    "name": "ipython",
    "version": 3
   },
   "file_extension": ".py",
   "mimetype": "text/x-python",
   "name": "python",
   "nbconvert_exporter": "python",
   "pygments_lexer": "ipython3",
   "version": "3.11.5"
  }
 },
 "nbformat": 4,
 "nbformat_minor": 2
}
